{
 "cells": [
  {
   "cell_type": "markdown",
   "id": "a8bdbbba-99f7-4027-ac09-d43c52d15012",
   "metadata": {},
   "source": [
    "# Pickle 模块测试套件 - 稳定性与正确性分析\n"
   ]
  },
  {
   "cell_type": "code",
   "execution_count": 1,
   "id": "6101d149-7812-4750-ace3-8e008f4f6c27",
   "metadata": {},
   "outputs": [],
   "source": [
    "import pickle\n",
    "import hashlib\n",
    "import sys\n",
    "import platform\n",
    "import datetime\n",
    "import os\n"
   ]
  },
  {
   "cell_type": "code",
   "execution_count": 2,
   "id": "892c1f4e-f67b-42c0-8d19-00ab712ca7ce",
   "metadata": {},
   "outputs": [],
   "source": [
    "def get_pickle_hash(obj):\n",
    "    try:\n",
    "        data = pickle.dumps(obj)\n",
    "        return hashlib.sha256(data).hexdigest()\n",
    "    except Exception as e:\n",
    "        return f\"ERROR: {e}\"\n"
   ]
  },
  {
   "cell_type": "markdown",
   "id": "b5c66618-3823-4d55-b82f-09124a507990",
   "metadata": {},
   "source": [
    "## 功能性测试（Functional Testing）：基础类型的序列化\n"
   ]
  },
  {
   "cell_type": "code",
   "execution_count": 3,
   "id": "c6b54d42-2410-41dd-9fbc-f1ce9a92d961",
   "metadata": {},
   "outputs": [
    {
     "data": {
      "text/plain": [
       "{'整数': {'原始对象': 42, '反序列化结果': 42, '是否一致': True},\n",
       " '浮点数': {'原始对象': 3.14159, '反序列化结果': 3.14159, '是否一致': True},\n",
       " '布尔值': {'原始对象': True, '反序列化结果': True, '是否一致': True},\n",
       " '字符串': {'原始对象': 'ChatGPT', '反序列化结果': 'ChatGPT', '是否一致': True},\n",
       " '列表': {'原始对象': [1, 2, 3], '反序列化结果': [1, 2, 3], '是否一致': True},\n",
       " '字典': {'原始对象': {'a': 1, 'b': 2}, '反序列化结果': {'a': 1, 'b': 2}, '是否一致': True},\n",
       " '元组': {'原始对象': (4, 5, 6), '反序列化结果': (4, 5, 6), '是否一致': True},\n",
       " '集合': {'原始对象': {7, 8, 9}, '反序列化结果': {7, 8, 9}, '是否一致': True},\n",
       " '嵌套结构': {'原始对象': {'x': [1, {'y': (3, 4)}]},\n",
       "  '反序列化结果': {'x': [1, {'y': (3, 4)}]},\n",
       "  '是否一致': True},\n",
       " '空值': {'原始对象': None, '反序列化结果': None, '是否一致': True}}"
      ]
     },
     "execution_count": 3,
     "metadata": {},
     "output_type": "execute_result"
    }
   ],
   "source": [
    "test_data = {\n",
    "    \"整数\": 42,\n",
    "    \"浮点数\": 3.14159,\n",
    "    \"布尔值\": True,\n",
    "    \"字符串\": \"ChatGPT\",\n",
    "    \"列表\": [1, 2, 3],\n",
    "    \"字典\": {\"a\": 1, \"b\": 2},\n",
    "    \"元组\": (4, 5, 6),\n",
    "    \"集合\": {7, 8, 9},\n",
    "    \"嵌套结构\": {\"x\": [1, {\"y\": (3, 4)}]},\n",
    "    \"空值\": None\n",
    "}\n",
    "\n",
    "results = {}\n",
    "for name, obj in test_data.items():\n",
    "    try:\n",
    "        serialized = pickle.dumps(obj)\n",
    "        deserialized = pickle.loads(serialized)\n",
    "        passed = obj == deserialized\n",
    "    except Exception as e:\n",
    "        passed = False\n",
    "        deserialized = str(e)\n",
    "    results[name] = {\n",
    "        \"原始对象\": obj,\n",
    "        \"反序列化结果\": deserialized,\n",
    "        \"是否一致\": passed\n",
    "    }\n",
    "\n",
    "results\n"
   ]
  },
  {
   "cell_type": "markdown",
   "id": "301a754f-7f47-4544-ab88-6905902e11f7",
   "metadata": {},
   "source": [
    "## 稳定性测试：相同对象的 Pickle 哈希值是否一致\n"
   ]
  },
  {
   "cell_type": "code",
   "execution_count": 4,
   "id": "316c179b-04cd-41f0-81f5-4d00e7efe3bb",
   "metadata": {},
   "outputs": [
    {
     "name": "stdout",
     "output_type": "stream",
     "text": [
      "第一次哈希: 415f39ea4600f7fee567c52c63c008d0dda456cc3fe918cb6b0f086918545b6b\n",
      "第二次哈希: 415f39ea4600f7fee567c52c63c008d0dda456cc3fe918cb6b0f086918545b6b\n",
      "第三次哈希: 415f39ea4600f7fee567c52c63c008d0dda456cc3fe918cb6b0f086918545b6b\n",
      "一致性: True\n"
     ]
    }
   ],
   "source": [
    "sample_object = {\"test\": [1, 2, 3], \"time\": datetime.datetime(2020, 1, 1)}\n",
    "\n",
    "hash1 = get_pickle_hash(sample_object)\n",
    "hash2 = get_pickle_hash(sample_object)\n",
    "hash3 = get_pickle_hash(sample_object)\n",
    "\n",
    "print(\"第一次哈希:\", hash1)\n",
    "print(\"第二次哈希:\", hash2)\n",
    "print(\"第三次哈希:\", hash3)\n",
    "print(\"一致性:\", hash1 == hash2 == hash3)\n"
   ]
  },
  {
   "cell_type": "markdown",
   "id": "f7626758-e278-4f2d-8782-6b566be46e4d",
   "metadata": {},
   "source": [
    "## 模糊测试示例：随机生成复杂对象并检查序列化稳定性\n"
   ]
  },
  {
   "cell_type": "code",
   "execution_count": 5,
   "id": "77d1a71a-6ff9-4d06-bd4d-83366b10fcae",
   "metadata": {},
   "outputs": [
    {
     "name": "stdout",
     "output_type": "stream",
     "text": [
      "生成的结构: ({'0': [None, 42], '1': {'0': 3.14, '1': True}}, [{'0': 42, '1': 3.14}, ('text', 3.14)])\n",
      "哈希一致性: True\n"
     ]
    }
   ],
   "source": [
    "import random\n",
    "\n",
    "def generate_random_nested_structure(depth=3):\n",
    "    if depth == 0:\n",
    "        return random.choice([42, 3.14, True, \"text\", None])\n",
    "    structure_type = random.choice([\"list\", \"dict\", \"tuple\"])\n",
    "    if structure_type == \"list\":\n",
    "        return [generate_random_nested_structure(depth - 1) for _ in range(2)]\n",
    "    elif structure_type == \"dict\":\n",
    "        return {str(i): generate_random_nested_structure(depth - 1) for i in range(2)}\n",
    "    else:\n",
    "        return tuple(generate_random_nested_structure(depth - 1) for _ in range(2))\n",
    "\n",
    "fuzz_object = generate_random_nested_structure()\n",
    "hash_before = get_pickle_hash(fuzz_object)\n",
    "hash_after = get_pickle_hash(fuzz_object)\n",
    "\n",
    "print(\"生成的结构:\", fuzz_object)\n",
    "print(\"哈希一致性:\", hash_before == hash_after)\n"
   ]
  },
  {
   "cell_type": "code",
   "execution_count": null,
   "id": "cd6caa7a-87a8-476c-ac8a-96cfde3875f5",
   "metadata": {},
   "outputs": [],
   "source": []
  }
 ],
 "metadata": {
  "kernelspec": {
   "display_name": "Python 3 (ipykernel)",
   "language": "python",
   "name": "python3"
  },
  "language_info": {
   "codemirror_mode": {
    "name": "ipython",
    "version": 3
   },
   "file_extension": ".py",
   "mimetype": "text/x-python",
   "name": "python",
   "nbconvert_exporter": "python",
   "pygments_lexer": "ipython3",
   "version": "3.12.7"
  }
 },
 "nbformat": 4,
 "nbformat_minor": 5
}
